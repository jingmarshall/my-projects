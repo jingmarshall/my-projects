{
 "cells": [
  {
   "cell_type": "code",
   "execution_count": 1,
   "metadata": {},
   "outputs": [],
   "source": [
    "import matplotlib.pyplot as plt\n",
    "import pandas as pd\n",
    "import numpy as np\n",
    "from matplotlib.patches import Rectangle"
   ]
  },
  {
   "cell_type": "markdown",
   "metadata": {},
   "source": [
    "# EX sheet4"
   ]
  },
  {
   "cell_type": "code",
   "execution_count": 2,
   "metadata": {},
   "outputs": [],
   "source": [
    "df=pd.read_csv('.\\\\OneDrive\\\\Desktop\\\\Accounting\\\\Data Scientist\\\\spyder data visualization\\\\carrotPrices.csv')\n",
    "df_o=pd.read_csv('.\\\\OneDrive\\\\Desktop\\\\Accounting\\\\Data Scientist\\\\spyder data visualization\\\\onionPrices.csv')"
   ]
  },
  {
   "cell_type": "code",
   "execution_count": 3,
   "metadata": {},
   "outputs": [],
   "source": [
    "df['price']=[round(val,2) for val in df['price']]\n",
    "df_o['price']=[round(val,2) for val in df_o['price']]\n",
    "lowest_price=min(df['price'].tolist()+df_o['price'].tolist())   # the min of 2 lists combined\n",
    "highest_price=max(df['price'].tolist()+df_o['price'].tolist())\n",
    "# set the bins\n",
    "bins=[]\n",
    "for val in range(int(lowest_price*100)-1,int(highest_price*100)+1,5):\n",
    "    bins.append(val/100)\n",
    "        \n",
    "# finding which bin is the ave at.\n",
    "ave=np.average(df['price'])\n",
    "ave_o=np.average(df_o['price'])\n",
    "ind=0\n",
    "for i in range(len(bins)):\n",
    "    if ave>=bins[i] and ave<=bins[i+1]:\n",
    "        ind=i\n",
    "# print(ind)"
   ]
  },
  {
   "cell_type": "code",
   "execution_count": 4,
   "metadata": {},
   "outputs": [
    {
     "data": {
      "image/png": "[encoded data removed]",
      "text/plain": [
       "<Figure size 432x432 with 1 Axes>"
      ]
     },
     "metadata": {
      "needs_background": "light"
     },
     "output_type": "display_data"
    }
   ],
   "source": [
    "fig=plt.figure(figsize=(6,6))\n",
    "ax1=fig.add_subplot(111)\n",
    "N,bins,patches=plt.hist(x=(df['price'],df_o['price']),color=('orange','purple'),\n",
    "                        bins=bins,align='mid',range=(lowest_price,highest_price))\n",
    "plt.xlabel('price')\n",
    "plt.title('hist of prices for carrot and onion ')\n",
    "\n",
    "# add legend with Rectangle or just using patches\n",
    "# rect=Rectangle((0,0),1,1,color='orange')\n",
    "patches[0][ind].set_facecolor('blue')\n",
    "boxes=[patches[0][0],patches[1][0],patches[0][ind]]\n",
    "labels=['carrot','onion','ave_o']\n",
    "plt.legend(boxes,labels)\n",
    "\n",
    "plt.show()"
   ]
  },
  {
   "cell_type": "code",
   "execution_count": 5,
   "metadata": {},
   "outputs": [],
   "source": [
    "def get_month(val):\n",
    "    return int(val.split('-')[1])\n",
    "# get the month average for carrot\n",
    "df['month']=df['date'].apply(get_month)\n",
    "average_monthly=[]\n",
    "for i in range(1,13):\n",
    "    df_month_i=df.loc[df['month']==i]\n",
    "    average_monthly.append(round(np.average(df_month_i['price']),4))\n",
    "    \n",
    "# get the month average for onion    \n",
    "df_o['month']=df_o['date'].apply(get_month)\n",
    "average_o_monthly=[]\n",
    "for i in range(1,13):\n",
    "    df_o_month_i=df_o.loc[df_o['month']==i]\n",
    "    average_o_monthly.append(round(np.average(df_o_month_i['price']),4))    "
   ]
  },
  {
   "cell_type": "code",
   "execution_count": 6,
   "metadata": {},
   "outputs": [
    {
     "data": {
      "image/png": "[encoded data removed]",
      "text/plain": [
       "<Figure size 576x432 with 2 Axes>"
      ]
     },
     "metadata": {
      "needs_background": "light"
     },
     "output_type": "display_data"
    }
   ],
   "source": [
    "fig=plt.figure(figsize=(8,6))\n",
    "ax1=fig.add_subplot(121)     # stacking\n",
    "plt.bar(x=range(1,13),height=average_monthly,\n",
    "        width=0.25,color='orange',label='carrot',align='center')\n",
    "plt.bar(x=range(1,13),height=average_o_monthly,\n",
    "        width=0.25,color='purple',label='onion',align='center',bottom=average_monthly)\n",
    "\n",
    "ax2=fig.add_subplot(122)    \n",
    "# add the error bars for carrot\n",
    "mins=[]\n",
    "maxs=[]\n",
    "for i in range(1,13):\n",
    "    df_month_i=df.loc[df['month']==i]\n",
    "    mins.append(np.min(df_month_i['price']))\n",
    "    maxs.append(np.max(df_month_i['price']))\n",
    "\n",
    "lower_error_length=np.array(average_monthly)-np.array(mins)\n",
    "upper_error_length=np.array(maxs)-np.array(average_monthly)\n",
    "    \n",
    "plt.bar(x=range(1,13),height=average_monthly,\n",
    "        width=0.25,color='orange',label='carrot',align='edge',\n",
    "        yerr=[lower_error_length,upper_error_length],ecolor='black')\n",
    "\n",
    "plt.bar(x=range(1,13),height=average_o_monthly,                    # seperate, not stacking\n",
    "        width=-0.25,color='purple',label='onion',align='edge')\n",
    "plt.xticks(range(1,13))\n",
    "plt.legend()\n",
    "plt.show()"
   ]
  },
  {
   "cell_type": "code",
   "execution_count": 7,
   "metadata": {},
   "outputs": [
    {
     "data": {
      "text/plain": [
       "0.3703835616438356"
      ]
     },
     "execution_count": 7,
     "metadata": {},
     "output_type": "execute_result"
    }
   ],
   "source": [
    "df['price'].min(),df['price'].max()\n",
    "np.average(df['price'])"
   ]
  },
  {
   "cell_type": "code",
   "execution_count": 8,
   "metadata": {},
   "outputs": [
    {
     "data": {
      "image/png": "[encoded data removed]",
      "text/plain": [
       "<Figure size 576x432 with 1 Axes>"
      ]
     },
     "metadata": {
      "needs_background": "light"
     },
     "output_type": "display_data"
    }
   ],
   "source": [
    "fig=plt.figure(figsize=(8,6))\n",
    "ax1=fig.add_subplot(121)\n",
    "# get the median (*sort*: list.sort() or df=df.sort_values)\n",
    "median_index=int(len(df['price'])/2)\n",
    "df['price'].to_numpy().sort()\n",
    "median_value=df['price'].to_numpy()[median_index]\n",
    "\n",
    "df_o['price'].to_numpy().sort()\n",
    "median_o_value=df_o['price'].to_numpy()[median_index]\n",
    "\n",
    "plt.boxplot(x=[df['price'],df_o['price']],\n",
    "           whis=(10,90),\n",
    "           notch=True,\n",
    "           conf_intervals=[[median_value-0.05,median_value+0.05],[median_o_value-0.05,median_o_value+0.05]])\n",
    "plt.show()\n"
   ]
  },
  {
   "cell_type": "code",
   "execution_count": null,
   "metadata": {},
   "outputs": [],
   "source": []
  },
  {
   "cell_type": "code",
   "execution_count": null,
   "metadata": {},
   "outputs": [],
   "source": []
  },
  {
   "cell_type": "code",
   "execution_count": 9,
   "metadata": {},
   "outputs": [],
   "source": [
    "df=pd.read_csv('.\\\\OneDrive\\\\Desktop\\\\Accounting\\\\Data Scientist\\\\spyder data visualization\\\\carrotPrices.csv')\n",
    "df_o=pd.read_csv('.\\\\OneDrive\\\\Desktop\\\\Accounting\\\\Data Scientist\\\\spyder data visualization\\\\onionPrices.csv')"
   ]
  },
  {
   "cell_type": "code",
   "execution_count": 10,
   "metadata": {},
   "outputs": [
    {
     "data": {
      "text/html": [
       "<div>\n",
       "<style scoped>\n",
       "    .dataframe tbody tr th:only-of-type {\n",
       "        vertical-align: middle;\n",
       "    }\n",
       "\n",
       "    .dataframe tbody tr th {\n",
       "        vertical-align: top;\n",
       "    }\n",
       "\n",
       "    .dataframe thead th {\n",
       "        text-align: right;\n",
       "    }\n",
       "</style>\n",
       "<table border=\"1\" class=\"dataframe\">\n",
       "  <thead>\n",
       "    <tr style=\"text-align: right;\">\n",
       "      <th></th>\n",
       "      <th>Unnamed: 0</th>\n",
       "      <th>date</th>\n",
       "      <th>price</th>\n",
       "    </tr>\n",
       "  </thead>\n",
       "  <tbody>\n",
       "    <tr>\n",
       "      <th>0</th>\n",
       "      <td>0</td>\n",
       "      <td>2018-01-01</td>\n",
       "      <td>0.165202</td>\n",
       "    </tr>\n",
       "    <tr>\n",
       "      <th>1</th>\n",
       "      <td>1</td>\n",
       "      <td>2018-01-02</td>\n",
       "      <td>0.177186</td>\n",
       "    </tr>\n",
       "    <tr>\n",
       "      <th>2</th>\n",
       "      <td>2</td>\n",
       "      <td>2018-01-03</td>\n",
       "      <td>0.178788</td>\n",
       "    </tr>\n",
       "    <tr>\n",
       "      <th>3</th>\n",
       "      <td>3</td>\n",
       "      <td>2018-01-04</td>\n",
       "      <td>0.179504</td>\n",
       "    </tr>\n",
       "    <tr>\n",
       "      <th>4</th>\n",
       "      <td>4</td>\n",
       "      <td>2018-01-05</td>\n",
       "      <td>0.185804</td>\n",
       "    </tr>\n",
       "  </tbody>\n",
       "</table>\n",
       "</div>"
      ],
      "text/plain": [
       "   Unnamed: 0        date     price\n",
       "0           0  2018-01-01  0.165202\n",
       "1           1  2018-01-02  0.177186\n",
       "2           2  2018-01-03  0.178788\n",
       "3           3  2018-01-04  0.179504\n",
       "4           4  2018-01-05  0.185804"
      ]
     },
     "execution_count": 10,
     "metadata": {},
     "output_type": "execute_result"
    }
   ],
   "source": [
    "new=df['price'].to_numpy()\n",
    "new.sort()\n",
    "new[182]\n",
    "df.head()"
   ]
  },
  {
   "cell_type": "code",
   "execution_count": 11,
   "metadata": {},
   "outputs": [
    {
     "name": "stdout",
     "output_type": "stream",
     "text": [
      "   Unnamed: 0        date     price\n",
      "0           0  2018-01-01  0.165202\n",
      "1           1  2018-01-02  0.177186\n",
      "2           2  2018-01-03  0.178788\n",
      "3           3  2018-01-04  0.179504\n",
      "4           4  2018-01-05  0.185804\n"
     ]
    },
    {
     "data": {
      "text/html": [
       "<div>\n",
       "<style scoped>\n",
       "    .dataframe tbody tr th:only-of-type {\n",
       "        vertical-align: middle;\n",
       "    }\n",
       "\n",
       "    .dataframe tbody tr th {\n",
       "        vertical-align: top;\n",
       "    }\n",
       "\n",
       "    .dataframe thead th {\n",
       "        text-align: right;\n",
       "    }\n",
       "</style>\n",
       "<table border=\"1\" class=\"dataframe\">\n",
       "  <thead>\n",
       "    <tr style=\"text-align: right;\">\n",
       "      <th></th>\n",
       "      <th>Unnamed: 0</th>\n",
       "      <th>date</th>\n",
       "      <th>price</th>\n",
       "    </tr>\n",
       "  </thead>\n",
       "  <tbody>\n",
       "    <tr>\n",
       "      <th>0</th>\n",
       "      <td>0</td>\n",
       "      <td>2018-01-01</td>\n",
       "      <td>0.165202</td>\n",
       "    </tr>\n",
       "    <tr>\n",
       "      <th>1</th>\n",
       "      <td>1</td>\n",
       "      <td>2018-01-02</td>\n",
       "      <td>0.177186</td>\n",
       "    </tr>\n",
       "    <tr>\n",
       "      <th>2</th>\n",
       "      <td>2</td>\n",
       "      <td>2018-01-03</td>\n",
       "      <td>0.178788</td>\n",
       "    </tr>\n",
       "    <tr>\n",
       "      <th>3</th>\n",
       "      <td>3</td>\n",
       "      <td>2018-01-04</td>\n",
       "      <td>0.179504</td>\n",
       "    </tr>\n",
       "    <tr>\n",
       "      <th>4</th>\n",
       "      <td>4</td>\n",
       "      <td>2018-01-05</td>\n",
       "      <td>0.185804</td>\n",
       "    </tr>\n",
       "  </tbody>\n",
       "</table>\n",
       "</div>"
      ],
      "text/plain": [
       "   Unnamed: 0        date     price\n",
       "0           0  2018-01-01  0.165202\n",
       "1           1  2018-01-02  0.177186\n",
       "2           2  2018-01-03  0.178788\n",
       "3           3  2018-01-04  0.179504\n",
       "4           4  2018-01-05  0.185804"
      ]
     },
     "execution_count": 11,
     "metadata": {},
     "output_type": "execute_result"
    }
   ],
   "source": [
    "df_sorted=df.sort_values('price', inplace=False)    # the only way to not update\n",
    "print(df.head())\n",
    "df_sorted.head()\n"
   ]
  },
  {
   "cell_type": "code",
   "execution_count": null,
   "metadata": {},
   "outputs": [],
   "source": []
  }
 ],
 "metadata": {
  "kernelspec": {
   "display_name": "Python 3",
   "language": "python",
   "name": "python3"
  },
  "language_info": {
   "codemirror_mode": {
    "name": "ipython",
    "version": 3
   },
   "file_extension": ".py",
   "mimetype": "text/x-python",
   "name": "python",
   "nbconvert_exporter": "python",
   "pygments_lexer": "ipython3",
   "version": "3.8.5"
  }
 },
 "nbformat": 4,
 "nbformat_minor": 4
}
